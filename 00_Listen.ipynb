{
 "cells": [
  {
   "cell_type": "markdown",
   "metadata": {},
   "source": [
    "# Listen"
   ]
  },
  {
   "cell_type": "markdown",
   "metadata": {},
   "source": [
    "## Wiederholung"
   ]
  },
  {
   "cell_type": "markdown",
   "metadata": {},
   "source": [
    "Listen bieten die Möglichkeit verschiedene Objekte zu sammeln.\n",
    "Bsp:"
   ]
  },
  {
   "cell_type": "code",
   "execution_count": 1,
   "metadata": {},
   "outputs": [],
   "source": [
    "liste = [\"Hallo,\", \"hier\", \"seht\", \"ihr\", 6, \"verschiedene\", \"Strings\"]"
   ]
  },
  {
   "cell_type": "markdown",
   "metadata": {},
   "source": [
    "Eine Liste kann Objekte unterschiedlicher Typen enthalten. `liste` enthält zum Beispiel eine Zahl und viele Strings. Über die gesammelten Objekte kann \"iteriert\" werden. Das heißt die Liste wird von vorne nach hinten durchlaufen. Bsp:"
   ]
  },
  {
   "cell_type": "code",
   "execution_count": 2,
   "metadata": {},
   "outputs": [
    {
     "name": "stdout",
     "output_type": "stream",
     "text": [
      "Hallo,\n",
      "hier\n",
      "seht\n",
      "ihr\n",
      "6\n",
      "verschiedene\n",
      "Strings\n"
     ]
    }
   ],
   "source": [
    "for element in liste:\n",
    "    print(element)"
   ]
  },
  {
   "cell_type": "markdown",
   "metadata": {},
   "source": [
    "Die sogenannte \"Schleifenvariable\" muss hier nicht `element` heißen sondern kann einen (fast) beliebigen Namen bekommen. Es gibt in Python reservierte Namen, diese können nicht verwendet werden.\n",
    "\n",
    "Oft möchte man neben dem eigentlichen Objekt auch den \"Index\" des Objekts wissen. Das funktioniert mit der `enumerate` Funktion. Bsp:"
   ]
  },
  {
   "cell_type": "code",
   "execution_count": 3,
   "metadata": {},
   "outputs": [
    {
     "name": "stdout",
     "output_type": "stream",
     "text": [
      "0 Hallo,\n",
      "1 hier\n",
      "2 seht\n",
      "3 ihr\n",
      "4 6\n",
      "5 verschiedene\n",
      "6 Strings\n"
     ]
    }
   ],
   "source": [
    "for i, element in enumerate(liste):\n",
    "    print(i, element)"
   ]
  },
  {
   "cell_type": "markdown",
   "metadata": {},
   "source": [
    "Wie ihr seht fängt die Liste bei `0` und nicht bei `1` an. Das erste Element hat also den Index `0`. Auf die Elemente in einer Liste kann auch direkt über den Index zugegriffen werden. Bsp:"
   ]
  },
  {
   "cell_type": "code",
   "execution_count": 4,
   "metadata": {},
   "outputs": [
    {
     "data": {
      "text/plain": [
       "'ihr'"
      ]
     },
     "execution_count": 4,
     "metadata": {},
     "output_type": "execute_result"
    }
   ],
   "source": [
    "liste[3]"
   ]
  },
  {
   "cell_type": "markdown",
   "metadata": {},
   "source": [
    "Die eckigen Klammern bedeuten: \"Gib mir das Element an Position _3_\". Hier darf nicht vergessen werden, dass das erste Element den Index 0 hat. Bsp:"
   ]
  },
  {
   "cell_type": "code",
   "execution_count": 5,
   "metadata": {},
   "outputs": [
    {
     "data": {
      "text/plain": [
       "'Hallo,'"
      ]
     },
     "execution_count": 5,
     "metadata": {},
     "output_type": "execute_result"
    }
   ],
   "source": [
    "liste[0]"
   ]
  },
  {
   "cell_type": "markdown",
   "metadata": {},
   "source": [
    "## Funktionen auf Listen"
   ]
  },
  {
   "cell_type": "markdown",
   "metadata": {},
   "source": [
    "Auf einer Liste können verschiedene Funktionen aufgerufen werden, eine vollständige Auflistung findet sich [hier](https://docs.python.org/3/library/stdtypes.html#sequence-types-list-tuple-range). Zum Beispiel möchte man häufig wissen, wie viele Elemente in einer Liste sind. Das geht mit `len()`. Bsp:"
   ]
  },
  {
   "cell_type": "code",
   "execution_count": 6,
   "metadata": {},
   "outputs": [
    {
     "data": {
      "text/plain": [
       "7"
      ]
     },
     "execution_count": 6,
     "metadata": {},
     "output_type": "execute_result"
    }
   ],
   "source": [
    "len(liste)"
   ]
  },
  {
   "cell_type": "markdown",
   "metadata": {},
   "source": [
    "Oft will man neben der Länge auch das größte und das kleinste Element der Liste ausgeben. Die Befehle dafür sind `min` und `max`. Die Befehle funktionieren nur, wenn tatsächlich ausschließlich Zahlen in der Liste sind."
   ]
  },
  {
   "cell_type": "code",
   "execution_count": 7,
   "metadata": {},
   "outputs": [
    {
     "data": {
      "text/plain": [
       "0"
      ]
     },
     "execution_count": 7,
     "metadata": {},
     "output_type": "execute_result"
    }
   ],
   "source": [
    "ziffern = [3,7,8,4,9,1,0,2,5,6]\n",
    "min(ziffern)"
   ]
  },
  {
   "cell_type": "code",
   "execution_count": 8,
   "metadata": {},
   "outputs": [
    {
     "data": {
      "text/plain": [
       "9"
      ]
     },
     "execution_count": 8,
     "metadata": {},
     "output_type": "execute_result"
    }
   ],
   "source": [
    "max(ziffern)"
   ]
  },
  {
   "cell_type": "markdown",
   "metadata": {},
   "source": [
    "### Aufgabe 1"
   ]
  },
  {
   "cell_type": "markdown",
   "metadata": {},
   "source": [
    "1. Erstelle eine unsortierte Liste mit verschiedenen Ganz- (int) und Gleitkommazahlen (float).\n",
    "1. Gib das größte und das kleinste Element der Liste aus.\n",
    "1. Sortiere die Liste und gib die sortierte Liste aus.  ([Zusatzinfo](https://docs.python.org/3/library/stdtypes.html#list.sort))\n",
    "1. Was kannst du über die Indizes der sortierten Liste im Vergleich zur unsortierten Liste sagen? Gib die Elemente mit ihren Indizes über eine `for`-Schleife aus."
   ]
  },
  {
   "cell_type": "code",
   "execution_count": null,
   "metadata": {},
   "outputs": [],
   "source": []
  }
 ],
 "metadata": {
  "kernelspec": {
   "display_name": "Python 3",
   "language": "python",
   "name": "python3"
  },
  "language_info": {
   "codemirror_mode": {
    "name": "ipython",
    "version": 3
   },
   "file_extension": ".py",
   "mimetype": "text/x-python",
   "name": "python",
   "nbconvert_exporter": "python",
   "pygments_lexer": "ipython3",
   "version": "3.6.4"
  }
 },
 "nbformat": 4,
 "nbformat_minor": 2
}
