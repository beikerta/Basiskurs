{
 "cells": [
  {
   "cell_type": "markdown",
   "metadata": {},
   "source": [
    "# Funktionen"
   ]
  },
  {
   "cell_type": "markdown",
   "metadata": {},
   "source": [
    "## Wiederholung"
   ]
  },
  {
   "cell_type": "markdown",
   "metadata": {},
   "source": [
    "Funktionen können genutzt werden, um Programmcode zu kapseln und mehrfach zu verwenden. Funktionen werden mit dem Schlüsselwort `def` definiert. Bsp:"
   ]
  },
  {
   "cell_type": "code",
   "execution_count": 4,
   "metadata": {},
   "outputs": [],
   "source": [
    "def meineFunktion():\n",
    "    pass"
   ]
  },
  {
   "cell_type": "markdown",
   "metadata": {},
   "source": [
    "Es gibt Funktionen mit und ohne Parameter. Die Parameter werden in der sog. \"Signatur\" mit in die Klammern geschrieben. Bsp:"
   ]
  },
  {
   "cell_type": "code",
   "execution_count": 6,
   "metadata": {},
   "outputs": [],
   "source": [
    "def meineFunktion(meinParameter):\n",
    "    print(meinParameter)"
   ]
  },
  {
   "cell_type": "markdown",
   "metadata": {},
   "source": [
    "Die Parameter haben nur eine lokale Sichtbarkeit, d.h. dass diese nur innerhalb des Funktionsblocks sichtbar sind und außerhalb nicht genutzt werden können. Bsp:"
   ]
  },
  {
   "cell_type": "code",
   "execution_count": 8,
   "metadata": {},
   "outputs": [
    {
     "ename": "NameError",
     "evalue": "name 'meinParameter' is not defined",
     "output_type": "error",
     "traceback": [
      "\u001b[1;31m---------------------------------------------------------------------------\u001b[0m",
      "\u001b[1;31mNameError\u001b[0m                                 Traceback (most recent call last)",
      "\u001b[1;32m<ipython-input-8-a44dea24abe5>\u001b[0m in \u001b[0;36m<module>\u001b[1;34m()\u001b[0m\n\u001b[0;32m      1\u001b[0m \u001b[1;32mdef\u001b[0m \u001b[0mmeineFunktion\u001b[0m\u001b[1;33m(\u001b[0m\u001b[0mmeinParameter\u001b[0m\u001b[1;33m)\u001b[0m\u001b[1;33m:\u001b[0m\u001b[1;33m\u001b[0m\u001b[0m\n\u001b[0;32m      2\u001b[0m     \u001b[0mprint\u001b[0m\u001b[1;33m(\u001b[0m\u001b[0mmeinParameter\u001b[0m\u001b[1;33m)\u001b[0m\u001b[1;33m\u001b[0m\u001b[0m\n\u001b[1;32m----> 3\u001b[1;33m \u001b[0mprint\u001b[0m\u001b[1;33m(\u001b[0m\u001b[0mmeinParameter\u001b[0m\u001b[1;33m)\u001b[0m \u001b[1;31m# <= hier ist man außerhalb des \"Scopes\"\u001b[0m\u001b[1;33m\u001b[0m\u001b[0m\n\u001b[0m",
      "\u001b[1;31mNameError\u001b[0m: name 'meinParameter' is not defined"
     ]
    }
   ],
   "source": [
    "def meineFunktion(meinParameter):\n",
    "    print(meinParameter)\n",
    "print(meinParameter) # <= hier ist man außerhalb des \"Scopes\""
   ]
  },
  {
   "cell_type": "markdown",
   "metadata": {},
   "source": [
    "Man unterscheidet zwischen normalen Funktionen und rekursiven Funktionen. Rekursive Funktionen sind Funktionen, die sich selbst wieder aufrufen - normale Funktionen tun dies nicht."
   ]
  },
  {
   "cell_type": "markdown",
   "metadata": {},
   "source": [
    "Funktionen werden aufgerufen, indem man einfach den Namen der Funktion inkl. der angegebenen Parameter eingibt. Der Programmablauf \"springt\" dann an die Stelle der Funktion, führt diese aus und kehrt nach Beendigung der Ausführung an die Stelle zurück, an der die Funktion aufgerufen wurde. Bsp:"
   ]
  },
  {
   "cell_type": "code",
   "execution_count": 9,
   "metadata": {},
   "outputs": [
    {
     "name": "stdout",
     "output_type": "stream",
     "text": [
      "Hier ist der normale Programmfluss.\n",
      "Jetzt \"springen\" wir nach oben!\n",
      "gebe_etwas_aus wurde aufgerufen\n",
      "Jetzt sind wir wieder im normalen Programmfluss.\n"
     ]
    }
   ],
   "source": [
    "def gebe_etwas_aus():\n",
    "    print(\"gebe_etwas_aus wurde aufgerufen\")\n",
    "    \n",
    "print(\"Hier ist der normale Programmfluss.\")\n",
    "print(\"\"\"Jetzt \"springen\" wir nach oben!\"\"\")\n",
    "gebe_etwas_aus()\n",
    "print(\"Jetzt sind wir wieder im normalen Programmfluss.\")"
   ]
  },
  {
   "cell_type": "markdown",
   "metadata": {},
   "source": [
    "Oft hat man den Fall, dass man möchte, dass eine Funktion einen berechneten Wert zurückgibt, da man mit diesem weiterarbeiten möchte. Bsp:"
   ]
  },
  {
   "cell_type": "code",
   "execution_count": 10,
   "metadata": {},
   "outputs": [
    {
     "name": "stdout",
     "output_type": "stream",
     "text": [
      "4\n"
     ]
    }
   ],
   "source": [
    "liste = [1,2,4,5]\n",
    "minimum = min(liste)\n",
    "maximum = max(liste)\n",
    "abstand = maximum - minimum\n",
    "print(abstand)"
   ]
  },
  {
   "cell_type": "markdown",
   "metadata": {},
   "source": [
    "Für diesen Fall gibt es den `return` Ausdruck. Was hinter `return` kommt wird an den Aufrufer der Funktion zurückgegeben. Bsp:"
   ]
  },
  {
   "cell_type": "code",
   "execution_count": 12,
   "metadata": {},
   "outputs": [],
   "source": [
    "def was_tue_ich(eineListe):\n",
    "    a = 0\n",
    "    for element in eineListe:\n",
    "        if element > a:\n",
    "            a = element\n",
    "    return a;"
   ]
  },
  {
   "cell_type": "markdown",
   "metadata": {},
   "source": [
    "### Aufgabe 1"
   ]
  },
  {
   "cell_type": "markdown",
   "metadata": {},
   "source": [
    "Was macht die Funktion `was_tue_ich(eineListe)`. Rufe die Funktion mit einer Liste von Zahlen als Parameter auf und überprüfe deine Aussage."
   ]
  },
  {
   "cell_type": "markdown",
   "metadata": {},
   "source": [
    "### Zusatzaufgabe    "
   ]
  },
  {
   "cell_type": "markdown",
   "metadata": {},
   "source": [
    "Schreibe eine Funktion, die eine unsortierte Liste als Parameter bekommt und diese sortiert zurückgibt. Zusätzlich kannst du einen zusätzlichen Parameter definieren, der angibt, ob die Liste auf- oder absteigend sortiert werden soll."
   ]
  },
  {
   "cell_type": "code",
   "execution_count": null,
   "metadata": {},
   "outputs": [],
   "source": []
  }
 ],
 "metadata": {
  "kernelspec": {
   "display_name": "Python 3",
   "language": "python",
   "name": "python3"
  },
  "language_info": {
   "codemirror_mode": {
    "name": "ipython",
    "version": 3
   },
   "file_extension": ".py",
   "mimetype": "text/x-python",
   "name": "python",
   "nbconvert_exporter": "python",
   "pygments_lexer": "ipython3",
   "version": "3.6.4"
  }
 },
 "nbformat": 4,
 "nbformat_minor": 2
}
