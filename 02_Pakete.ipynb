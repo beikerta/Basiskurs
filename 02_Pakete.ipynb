{
 "cells": [
  {
   "cell_type": "markdown",
   "metadata": {
    "collapsed": true
   },
   "source": [
    "# Pakete\n",
    "Die Wurzel aus einer Zahl zu ziehen, ist kein triviales, jedoch ein häufiges Problem, mit zahlreichen Lösungen. Man kann die beste Lösung entweder durch das Lesen von Fachzeitschriften und langes Knobeln selber finden oder man verwendet bereits vorgefertigten Code.\n",
    "\n",
    "Dieser Code wird für Python in sogenannten Paketen verteilt. Dies sind thematische Sammlungen verschiedener Klassen und Funktionen, welche gesammelt zur Verfügung gestellt werden.\n",
    "\n",
    "Wir werden hier die Pakete \"matplotlib\", \"numpy\" und \"scipy\" benötigen.\n",
    "Bevor ihr euch aber enthusiastisch an die Lösung wagt sollten wir noch kurz in einem Beispiel die Verwendung von Paketen erläutern.\n",
    "\n",
    "Um ein externes Paket zu benutzen, muss man das im Quellcode sagen. Das geht über den Befehl `import XXXX` . Numpy, Scipy und all die anderen Pakete, die man üblicherweise nutzt, werden mit Anaconda mitinstalliert. Möchte man ein spezielleres Paket nutzen, müsste man das zuerst installieren.\n"
   ]
  },
  {
   "cell_type": "markdown",
   "metadata": {},
   "source": [
    "## Numpy\n",
    "Numpy hat zahlreiche Funktionen, die für numerischen Auswertungen sehr sehr nützlich sind, zum Beispiel Wurzelziehen. Die komplette Dokumentation dazu findet ihr [hier](https://docs.scipy.org/doc/numpy/reference/index.html#reference).  "
   ]
  },
  {
   "cell_type": "code",
   "execution_count": 9,
   "metadata": {},
   "outputs": [
    {
     "name": "stdout",
     "output_type": "stream",
     "text": [
      "2.0\n"
     ]
    },
    {
     "data": {
      "text/plain": [
       "1.6021766208e-19"
      ]
     },
     "execution_count": 9,
     "metadata": {},
     "output_type": "execute_result"
    }
   ],
   "source": [
    "import numpy as np # Hier erklären wir dem Interpreter, dass wir gerne numpy verwenden möchten und es np nennen werden\n",
    "a = 4\n",
    "print(np.sqrt(a))"
   ]
  },
  {
   "cell_type": "markdown",
   "metadata": {},
   "source": [
    "Es kann manchmal recht nervig und unübersichtlich sein, jedes mal z.B. np.pi oder np.sin zu schreiben. Bei häufig vorkommenden Befehlen kann dies durch folgendes Vorgehen weggelassen werden."
   ]
  },
  {
   "cell_type": "code",
   "execution_count": 3,
   "metadata": {},
   "outputs": [
    {
     "name": "stdout",
     "output_type": "stream",
     "text": [
      "a= 3.141592653589793\n",
      "cos(a)= -1.0\n"
     ]
    }
   ],
   "source": [
    "import numpy as np\n",
    "from numpy import pi,cos,exp #von numpy die funktionen importieren\n",
    "\n",
    "a=pi\n",
    "b=cos(a)\n",
    "print('a=',a)\n",
    "print('cos(a)=',b)"
   ]
  },
  {
   "cell_type": "markdown",
   "metadata": {},
   "source": [
    "## Scipy\n",
    "Eine Übersicht über die ganzen Konstanten, die ihr alle mit Scipy einbauen könnt, findet ihr [hier](https://docs.scipy.org/doc/scipy/reference/constants.html).\n",
    "Wie Numpy ist auch Scipy sehr mächtig. Die komlette Doku ist [hier](https://docs.scipy.org/doc/scipy/reference/) zu finden."
   ]
  },
  {
   "cell_type": "code",
   "execution_count": 10,
   "metadata": {},
   "outputs": [
    {
     "data": {
      "text/plain": [
       "1.66053904e-27"
      ]
     },
     "execution_count": 10,
     "metadata": {},
     "output_type": "execute_result"
    }
   ],
   "source": [
    "import scipy.constants as sc\n",
    "sc.atomic_mass"
   ]
  },
  {
   "cell_type": "markdown",
   "metadata": {},
   "source": [
    "#### Übrigens - als kleiner Tipp am Rande:\n",
    "Wenn ihr `sc.`getippt habt, und dann die TAB-Taste drückt, schlägt euch Jupyter schon vor, was Scipy.constants alles kann. Das funktioniert natürlich auch mit Numpy etc, und auch mit eigenen Funktionen. Probiert es mal aus!"
   ]
  },
  {
   "cell_type": "markdown",
   "metadata": {},
   "source": [
    "## Numpy Arrays\n",
    "Bisher haben wir Listen kennengelernt. Nun beschäftigen wir uns mit den sogenannten Arrays. Diese unterscheiden sich von Listen in zahlreichen Aspekten, die mit der Art der Datenspeicherung zu tun haben. Der für uns am wichtigsten Unterschied kann in sehr ungenauen jedoch relativ intuitiven Wörtern befasst werden: Arrays können sich quasi wie Vektoren verhalten. Um dies zu veranschaulichen betrachten wir das folgende Beispiel:\n"
   ]
  },
  {
   "cell_type": "code",
   "execution_count": 4,
   "metadata": {
    "scrolled": true
   },
   "outputs": [
    {
     "name": "stdout",
     "output_type": "stream",
     "text": [
      "arraw_new= [5 7 9]\n",
      "list_new= [1, 2, 3, 4, 5, 6]\n"
     ]
    }
   ],
   "source": [
    "#definieren einfache Arrays\n",
    "a = np.array([1,2,3])\n",
    "b = np.array([4,5,6])\n",
    "\n",
    "#definieren einfache Listen\n",
    "c=[1,2,3]\n",
    "d=[4,5,6]\n",
    "\n",
    "#Nun schauen wir was passiert, wenn wir sie jeweils addieren:\n",
    "\n",
    "array_new=a+b\n",
    "list_new=c+d\n",
    "\n",
    "print('arraw_new=',array_new)\n",
    "print('list_new=',list_new)"
   ]
  },
  {
   "cell_type": "markdown",
   "metadata": {},
   "source": [
    "Wir sehen, dass die Arrays sich komponentenweise addiert haben, aber in den Listen, wurden die Elementen nur hinzugefügt.\n",
    "Mit Arrays lassen sich viele Rechnungen, die auf vielen Werte durchgeführt werden müssen, erheblich vereinfachen.\n",
    "\n",
    "#### Achtung! Array $\\neq$ Vektoren, z.B ergibt $(Vektor)^2$ eine Zahl, während $(Array)^2$ jeweils die Komponenten quadriert. Arrays verhalten sich daher nicht wirklich wie Vektoren, aber Numpy hat eine Menge Funktionen, die das möglich machen."
   ]
  },
  {
   "cell_type": "markdown",
   "metadata": {},
   "source": [
    "## Aufgaben"
   ]
  },
  {
   "cell_type": "markdown",
   "metadata": {},
   "source": [
    "Im Folgenden wollen wir mehr oder weniger sinnvolle Operatoren mit Vektoren durchführen, um die Anwendung der Pakete kennen zu lernen.\n",
    "\n",
    "1. Schreibe folgende Vektoren als Arrays: $\\vec{a}=\\left(\\begin{array}{c} 1 \\\\ e \\end{array}\\right)$ , $\\vec{b}=\\left(\\begin{array}{c} 1 \\\\ 1 \\end{array}\\right)$ . $e$ bezeichnet dabei die Eulersche Zahl.\n",
    "\n",
    "1. Bilde das Skalarprodukt der beiden Vektoren. [Zusatzinfo](https://docs.scipy.org/doc/numpy/reference/generated/numpy.dot.html)\n",
    "\n",
    "1. Logarithmiere das ganze.\n",
    "\n",
    "1. Bilde zusätzlich das Kreuzprodukt der beiden Vektoren und multipliziere das mit der Gravitationskonstante.\n",
    "\n"
   ]
  },
  {
   "cell_type": "code",
   "execution_count": null,
   "metadata": {},
   "outputs": [],
   "source": []
  }
 ],
 "metadata": {
  "kernelspec": {
   "display_name": "Python 3",
   "language": "python",
   "name": "python3"
  },
  "language_info": {
   "codemirror_mode": {
    "name": "ipython",
    "version": 3
   },
   "file_extension": ".py",
   "mimetype": "text/x-python",
   "name": "python",
   "nbconvert_exporter": "python",
   "pygments_lexer": "ipython3",
   "version": "3.6.4"
  }
 },
 "nbformat": 4,
 "nbformat_minor": 2
}
